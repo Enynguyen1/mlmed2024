{
  "metadata": {
    "kernelspec": {
      "language": "python",
      "display_name": "Python 3",
      "name": "python3"
    },
    "language_info": {
      "name": "python",
      "version": "3.10.13",
      "mimetype": "text/x-python",
      "codemirror_mode": {
        "name": "ipython",
        "version": 3
      },
      "pygments_lexer": "ipython3",
      "nbconvert_exporter": "python",
      "file_extension": ".py"
    },
    "kaggle": {
      "accelerator": "none",
      "dataSources": [
        {
          "sourceId": 7839952,
          "sourceType": "datasetVersion",
          "datasetId": 4595957
        }
      ],
      "dockerImageVersionId": 30664,
      "isInternetEnabled": false,
      "language": "python",
      "sourceType": "notebook",
      "isGpuEnabled": false
    },
    "colab": {
      "provenance": [],
      "toc_visible": true
    }
  },
  "nbformat_minor": 0,
  "nbformat": 4,
  "cells": [
    {
      "cell_type": "code",
      "source": [
        "from google.colab import drive\n",
        "drive.mount('/content/drive')"
      ],
      "metadata": {
        "colab": {
          "base_uri": "https://localhost:8080/"
        },
        "id": "MEvs8k7wWOuP",
        "outputId": "593a5668-07ea-4430-aa67-da38c4e85d09"
      },
      "execution_count": null,
      "outputs": [
        {
          "output_type": "stream",
          "name": "stdout",
          "text": [
            "Mounted at /content/drive\n"
          ]
        }
      ]
    },
    {
      "cell_type": "code",
      "source": [
        "import pandas as pd\n",
        "import numpy as np\n",
        "from keras.models import Sequential\n",
        "from keras.layers import Conv2D, MaxPooling2D, Flatten, Dense\n",
        "from tensorflow.keras.preprocessing.image import ImageDataGenerator\n",
        "from keras.preprocessing import image\n",
        "import os"
      ],
      "metadata": {
        "id": "tMMe5bMfWn8I"
      },
      "execution_count": null,
      "outputs": []
    },
    {
      "cell_type": "code",
      "source": [
        "print(train_df.columns)"
      ],
      "metadata": {
        "colab": {
          "base_uri": "https://localhost:8080/"
        },
        "id": "q6kYTtWtYCKs",
        "outputId": "f6f5032b-0bde-46bb-86a3-d67720b72780"
      },
      "execution_count": null,
      "outputs": [
        {
          "output_type": "stream",
          "name": "stdout",
          "text": [
            "Index(['filename', 'pixel size(mm)', 'head circumference (mm)'], dtype='object')\n"
          ]
        }
      ]
    },
    {
      "cell_type": "code",
      "source": [
        "print(X_train.dtypes)"
      ],
      "metadata": {
        "colab": {
          "base_uri": "https://localhost:8080/"
        },
        "id": "SYyCPbsOYjdc",
        "outputId": "544c7dfe-5d5c-4886-dce0-8276d5ddc398"
      },
      "execution_count": null,
      "outputs": [
        {
          "output_type": "stream",
          "name": "stdout",
          "text": [
            "Series([], dtype: object)\n"
          ]
        }
      ]
    },
    {
      "cell_type": "code",
      "source": [
        "print(y_train.dtypes)"
      ],
      "metadata": {
        "colab": {
          "base_uri": "https://localhost:8080/"
        },
        "id": "A8k6SHaLYl-d",
        "outputId": "c1a2e19e-b893-4d7b-8c84-c5954a8213cd"
      },
      "execution_count": null,
      "outputs": [
        {
          "output_type": "stream",
          "name": "stdout",
          "text": [
            "float64\n"
          ]
        }
      ]
    },
    {
      "cell_type": "code",
      "source": [
        "print(X_train.head())"
      ],
      "metadata": {
        "colab": {
          "base_uri": "https://localhost:8080/"
        },
        "id": "ufe31Ig3YoYu",
        "outputId": "3a86c19a-49c6-4e0a-e383-1476376d2d18"
      },
      "execution_count": null,
      "outputs": [
        {
          "output_type": "stream",
          "name": "stdout",
          "text": [
            "Empty DataFrame\n",
            "Columns: []\n",
            "Index: [0, 1, 2, 3, 4]\n"
          ]
        }
      ]
    },
    {
      "cell_type": "code",
      "source": [
        "print(X_train.isnull().sum())"
      ],
      "metadata": {
        "colab": {
          "base_uri": "https://localhost:8080/"
        },
        "id": "LXuAaG2FYrNd",
        "outputId": "77bdeac2-a175-437a-d13c-c688abc58b5e"
      },
      "execution_count": null,
      "outputs": [
        {
          "output_type": "stream",
          "name": "stdout",
          "text": [
            "Series([], dtype: float64)\n"
          ]
        }
      ]
    },
    {
      "cell_type": "code",
      "source": [
        "print(X_train.shape, y_train.shape)"
      ],
      "metadata": {
        "colab": {
          "base_uri": "https://localhost:8080/"
        },
        "id": "N86i5Mp5YusK",
        "outputId": "352a9449-5070-44e4-b30b-2a7905089650"
      },
      "execution_count": null,
      "outputs": [
        {
          "output_type": "stream",
          "name": "stdout",
          "text": [
            "(999, 0) (999,)\n"
          ]
        }
      ]
    },
    {
      "cell_type": "code",
      "source": [
        "X_train = train_df[['pixel size(mm)', 'head circumference (mm)']]\n"
      ],
      "metadata": {
        "id": "NuSTQ2c5YFHS"
      },
      "execution_count": null,
      "outputs": []
    },
    {
      "cell_type": "code",
      "source": [
        "rf_model = RandomForestRegressor(n_estimators=100, random_state=42, max_features='sqrt')\n"
      ],
      "metadata": {
        "id": "IBmKxz1FY3fh"
      },
      "execution_count": null,
      "outputs": []
    },
    {
      "cell_type": "code",
      "source": [
        "from sklearn.ensemble import RandomForestRegressor\n",
        "import pandas as pd\n",
        "\n",
        "# Load the training and test data\n",
        "train_df = pd.read_csv('/content/drive/MyDrive/Data/practice2/training_set_pixel_size_and_HC.csv')\n",
        "test_df = pd.read_csv('/content/drive/MyDrive/Data/practice2/test_set_pixel_size.csv')\n",
        "\n",
        "# Inspect the structure of the training DataFrame\n",
        "print(train_df.head())  # Check the first few rows\n",
        "print(train_df.columns)  # Check column names\n",
        "\n",
        "# Preprocess the images (not needed for random forest)\n",
        "# Define your features and target variable\n",
        "X_train = train_df.drop(columns=['filename', 'head circumference (mm)'])  # Drop 'filename' column\n",
        "y_train = train_df['pixel size(mm)']\n",
        "\n",
        "# Check the contents of X_train to ensure features are present\n",
        "print(X_train.head())\n",
        "\n",
        "# Define the model (Random Forest Regressor)\n",
        "rf_model = RandomForestRegressor(n_estimators=100, random_state=42)  # You can adjust parameters as needed\n",
        "\n",
        "# Train the model\n",
        "rf_model.fit(X_train, y_train)\n",
        "\n",
        "# Prepare test data\n",
        "X_test = test_df.drop(columns=['filename'])\n",
        "\n",
        "# Predict on the test set\n",
        "rf_pred = rf_model.predict(X_test)\n"
      ],
      "metadata": {
        "colab": {
          "base_uri": "https://localhost:8080/"
        },
        "id": "xvGWhXggWHw5",
        "outputId": "59ef3468-7717-4a81-d74e-8e4d1ee7b818"
      },
      "execution_count": null,
      "outputs": [
        {
          "output_type": "stream",
          "name": "stdout",
          "text": [
            "     filename  pixel size(mm)  head circumference (mm)\n",
            "0  000_HC.png        0.069136                    44.30\n",
            "1  001_HC.png        0.089659                    56.81\n",
            "2  002_HC.png        0.062033                    68.75\n",
            "3  003_HC.png        0.091291                    69.00\n",
            "4  004_HC.png        0.061240                    59.81\n",
            "Index(['filename', 'pixel size(mm)', 'head circumference (mm)'], dtype='object')\n",
            "   pixel size(mm)\n",
            "0        0.069136\n",
            "1        0.089659\n",
            "2        0.062033\n",
            "3        0.091291\n",
            "4        0.061240\n"
          ]
        }
      ]
    },
    {
      "cell_type": "code",
      "source": [
        "from sklearn.ensemble import RandomForestRegressor\n",
        "from sklearn.model_selection import train_test_split\n",
        "from sklearn.metrics import mean_squared_error, mean_absolute_error\n",
        "import pandas as pd\n",
        "\n",
        "# Load the training data\n",
        "train_df = pd.read_csv('/content/drive/MyDrive/Data/practice2/training_set_pixel_size_and_HC.csv')\n",
        "\n",
        "# Define features and target variable\n",
        "X = train_df.drop(columns=['filename', 'head circumference (mm)'])  # Drop irrelevant columns\n",
        "y = train_df['pixel size(mm)']\n",
        "\n",
        "# Split the data into training and validation sets\n",
        "X_train, X_val, y_train, y_val = train_test_split(X, y, test_size=0.25, random_state=42)\n",
        "\n",
        "# Define the model\n",
        "rf_model = RandomForestRegressor(n_estimators=100, random_state=42)\n",
        "\n",
        "# Train the model\n",
        "rf_model.fit(X_train, y_train)\n",
        "\n",
        "# Evaluate the model\n",
        "train_preds = rf_model.predict(X_train)\n",
        "val_preds = rf_model.predict(X_val)\n",
        "\n",
        "train_mse = mean_squared_error(y_train, train_preds)\n",
        "train_mae = mean_absolute_error(y_train, train_preds)\n",
        "val_mse = mean_squared_error(y_val, val_preds)\n",
        "val_mae = mean_absolute_error(y_val, val_preds)\n",
        "\n",
        "print(\"Training MSE:\", train_mse)\n",
        "print(\"Training MAE:\", train_mae)\n",
        "print(\"Validation MSE:\", val_mse)\n",
        "print(\"Validation MAE:\", val_mae)\n",
        "\n",
        "# Load the test data\n",
        "test_df = pd.read_csv('/content/drive/MyDrive/Data/practice2/test_set_pixel_size.csv')\n",
        "\n",
        "# Prepare the test data\n",
        "X_test = test_df.drop(columns=['filename'])\n",
        "\n",
        "# Predict on the test set\n",
        "test_preds = rf_model.predict(X_test)\n",
        "\n",
        "# Optionally, save the predictions to a CSV file\n",
        "test_df['pixel size(mm)_predicted'] = test_preds\n",
        "test_df.to_csv('/content/drive/MyDrive/Data/practice2/test_set_pixel_size_with_predictions.csv', index=False)\n"
      ],
      "metadata": {
        "colab": {
          "base_uri": "https://localhost:8080/"
        },
        "id": "sFbnmC_TaRmV",
        "outputId": "e9702c49-798d-46ec-c20f-1b48e68ab988"
      },
      "execution_count": null,
      "outputs": [
        {
          "output_type": "stream",
          "name": "stdout",
          "text": [
            "Training MSE: 1.1888433104172739e-07\n",
            "Training MAE: 5.988672022007262e-05\n",
            "Validation MSE: 1.165289937957883e-05\n",
            "Validation MAE: 0.0003579804046050854\n"
          ]
        }
      ]
    },
    {
      "cell_type": "code",
      "source": [
        "from sklearn.metrics import mean_absolute_error\n",
        "\n",
        "# Predict on the test set\n",
        "pred = rf_model.predict(X_test)\n",
        "\n",
        "# Get the true values\n",
        "y_true = test_df['pixel size(mm)'].values\n",
        "\n",
        "# Calculate MAE\n",
        "mae = mean_absolute_error(y_true, pred)\n",
        "\n",
        "print(\"Mean Absolute Error:\", mae)\n"
      ],
      "metadata": {
        "execution": {
          "iopub.status.busy": "2024-03-14T08:11:27.339781Z",
          "iopub.execute_input": "2024-03-14T08:11:27.340289Z",
          "iopub.status.idle": "2024-03-14T08:11:27.945456Z",
          "shell.execute_reply.started": "2024-03-14T08:11:27.340243Z",
          "shell.execute_reply": "2024-03-14T08:11:27.943820Z"
        },
        "trusted": true,
        "colab": {
          "base_uri": "https://localhost:8080/"
        },
        "id": "jlLSAg6lWBrJ",
        "outputId": "cc07acd2-630c-46ca-a1da-21e34596af50"
      },
      "execution_count": null,
      "outputs": [
        {
          "output_type": "stream",
          "name": "stdout",
          "text": [
            "Mean Absolute Error: 0.00034839596941663463\n"
          ]
        }
      ]
    },
    {
      "cell_type": "code",
      "source": [
        "import matplotlib.pyplot as plt"
      ],
      "metadata": {
        "id": "h87BGVOrb-Eo"
      },
      "execution_count": null,
      "outputs": []
    },
    {
      "cell_type": "code",
      "source": [
        "# Visualize the results\n",
        "plt.figure(figsize=(10, 6))\n",
        "plt.scatter(pred, y_true, color='blue', label='Predicted vs. Actual')\n",
        "plt.plot([min(pred), max(pred)], [min(pred), max(pred)], color='red', linestyle='--', label='Perfect Prediction')\n",
        "plt.xlabel('Predicted Values')\n",
        "plt.ylabel('Actual Values')\n",
        "plt.title('Predicted vs. Actual Pixel Size (mm)')\n",
        "plt.legend()\n",
        "plt.show()\n"
      ],
      "metadata": {
        "colab": {
          "base_uri": "https://localhost:8080/",
          "height": 423
        },
        "id": "6foBmpYdb3nz",
        "outputId": "b8d121f0-f9e3-42ab-9d5c-36cbef3ed46a"
      },
      "execution_count": null,
      "outputs": [
        {
          "output_type": "display_data",
          "data": {
            "text/plain": [
              "<Figure size 1000x600 with 1 Axes>"
            ],
            "image/png": "[encoded data removed]"
          },
          "metadata": {}
        }
      ]
    },
    {
      "cell_type": "code",
      "source": [],
      "metadata": {
        "id": "L-MFdyQkdkRM"
      },
      "execution_count": null,
      "outputs": []
    }
  ]
}